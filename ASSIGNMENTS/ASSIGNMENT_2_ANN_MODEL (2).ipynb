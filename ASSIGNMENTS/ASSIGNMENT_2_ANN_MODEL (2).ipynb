{
 "cells": [
  {
   "cell_type": "code",
   "execution_count": 41,
   "id": "ab4e8750",
   "metadata": {},
   "outputs": [],
   "source": [
    "import pandas as pd\n",
    "import tensorflow as tf\n",
    "from tensorflow import keras\n",
    "from tensorflow.keras import Sequential\n",
    "from tensorflow.keras.layers import Flatten,Dense\n",
    "from sklearn.preprocessing import LabelEncoder, StandardScaler\n",
    "from sklearn.model_selection import train_test_split\n",
    "import numpy as np\n",
    "import seaborn as sb\n",
    "import matplotlib.pyplot as mp"
   ]
  },
  {
   "cell_type": "code",
   "execution_count": 42,
   "id": "6f0a21cf",
   "metadata": {},
   "outputs": [
    {
     "data": {
      "text/html": [
       "<div>\n",
       "<style scoped>\n",
       "    .dataframe tbody tr th:only-of-type {\n",
       "        vertical-align: middle;\n",
       "    }\n",
       "\n",
       "    .dataframe tbody tr th {\n",
       "        vertical-align: top;\n",
       "    }\n",
       "\n",
       "    .dataframe thead th {\n",
       "        text-align: right;\n",
       "    }\n",
       "</style>\n",
       "<table border=\"1\" class=\"dataframe\">\n",
       "  <thead>\n",
       "    <tr style=\"text-align: right;\">\n",
       "      <th></th>\n",
       "      <th>Age</th>\n",
       "      <th>Sex</th>\n",
       "      <th>BP</th>\n",
       "      <th>Cholesterol</th>\n",
       "      <th>Na_to_K</th>\n",
       "      <th>Drug</th>\n",
       "    </tr>\n",
       "  </thead>\n",
       "  <tbody>\n",
       "    <tr>\n",
       "      <th>0</th>\n",
       "      <td>23</td>\n",
       "      <td>F</td>\n",
       "      <td>HIGH</td>\n",
       "      <td>HIGH</td>\n",
       "      <td>25.355</td>\n",
       "      <td>DrugY</td>\n",
       "    </tr>\n",
       "    <tr>\n",
       "      <th>1</th>\n",
       "      <td>47</td>\n",
       "      <td>M</td>\n",
       "      <td>LOW</td>\n",
       "      <td>HIGH</td>\n",
       "      <td>13.093</td>\n",
       "      <td>drugC</td>\n",
       "    </tr>\n",
       "    <tr>\n",
       "      <th>2</th>\n",
       "      <td>47</td>\n",
       "      <td>M</td>\n",
       "      <td>LOW</td>\n",
       "      <td>HIGH</td>\n",
       "      <td>10.114</td>\n",
       "      <td>drugC</td>\n",
       "    </tr>\n",
       "    <tr>\n",
       "      <th>3</th>\n",
       "      <td>28</td>\n",
       "      <td>F</td>\n",
       "      <td>NORMAL</td>\n",
       "      <td>HIGH</td>\n",
       "      <td>7.798</td>\n",
       "      <td>drugX</td>\n",
       "    </tr>\n",
       "    <tr>\n",
       "      <th>4</th>\n",
       "      <td>61</td>\n",
       "      <td>F</td>\n",
       "      <td>LOW</td>\n",
       "      <td>HIGH</td>\n",
       "      <td>18.043</td>\n",
       "      <td>DrugY</td>\n",
       "    </tr>\n",
       "    <tr>\n",
       "      <th>5</th>\n",
       "      <td>22</td>\n",
       "      <td>F</td>\n",
       "      <td>NORMAL</td>\n",
       "      <td>HIGH</td>\n",
       "      <td>8.607</td>\n",
       "      <td>drugX</td>\n",
       "    </tr>\n",
       "    <tr>\n",
       "      <th>6</th>\n",
       "      <td>49</td>\n",
       "      <td>F</td>\n",
       "      <td>NORMAL</td>\n",
       "      <td>HIGH</td>\n",
       "      <td>16.275</td>\n",
       "      <td>DrugY</td>\n",
       "    </tr>\n",
       "    <tr>\n",
       "      <th>7</th>\n",
       "      <td>41</td>\n",
       "      <td>M</td>\n",
       "      <td>LOW</td>\n",
       "      <td>HIGH</td>\n",
       "      <td>11.037</td>\n",
       "      <td>drugC</td>\n",
       "    </tr>\n",
       "    <tr>\n",
       "      <th>8</th>\n",
       "      <td>60</td>\n",
       "      <td>M</td>\n",
       "      <td>NORMAL</td>\n",
       "      <td>HIGH</td>\n",
       "      <td>15.171</td>\n",
       "      <td>DrugY</td>\n",
       "    </tr>\n",
       "    <tr>\n",
       "      <th>9</th>\n",
       "      <td>43</td>\n",
       "      <td>M</td>\n",
       "      <td>LOW</td>\n",
       "      <td>NORMAL</td>\n",
       "      <td>19.368</td>\n",
       "      <td>DrugY</td>\n",
       "    </tr>\n",
       "    <tr>\n",
       "      <th>10</th>\n",
       "      <td>47</td>\n",
       "      <td>F</td>\n",
       "      <td>LOW</td>\n",
       "      <td>HIGH</td>\n",
       "      <td>11.767</td>\n",
       "      <td>drugC</td>\n",
       "    </tr>\n",
       "    <tr>\n",
       "      <th>11</th>\n",
       "      <td>34</td>\n",
       "      <td>F</td>\n",
       "      <td>HIGH</td>\n",
       "      <td>NORMAL</td>\n",
       "      <td>19.199</td>\n",
       "      <td>DrugY</td>\n",
       "    </tr>\n",
       "    <tr>\n",
       "      <th>12</th>\n",
       "      <td>43</td>\n",
       "      <td>M</td>\n",
       "      <td>LOW</td>\n",
       "      <td>HIGH</td>\n",
       "      <td>15.376</td>\n",
       "      <td>DrugY</td>\n",
       "    </tr>\n",
       "    <tr>\n",
       "      <th>13</th>\n",
       "      <td>74</td>\n",
       "      <td>F</td>\n",
       "      <td>LOW</td>\n",
       "      <td>HIGH</td>\n",
       "      <td>20.942</td>\n",
       "      <td>DrugY</td>\n",
       "    </tr>\n",
       "    <tr>\n",
       "      <th>14</th>\n",
       "      <td>50</td>\n",
       "      <td>F</td>\n",
       "      <td>NORMAL</td>\n",
       "      <td>HIGH</td>\n",
       "      <td>12.703</td>\n",
       "      <td>drugX</td>\n",
       "    </tr>\n",
       "    <tr>\n",
       "      <th>15</th>\n",
       "      <td>16</td>\n",
       "      <td>F</td>\n",
       "      <td>HIGH</td>\n",
       "      <td>NORMAL</td>\n",
       "      <td>15.516</td>\n",
       "      <td>DrugY</td>\n",
       "    </tr>\n",
       "    <tr>\n",
       "      <th>16</th>\n",
       "      <td>69</td>\n",
       "      <td>M</td>\n",
       "      <td>LOW</td>\n",
       "      <td>NORMAL</td>\n",
       "      <td>11.455</td>\n",
       "      <td>drugX</td>\n",
       "    </tr>\n",
       "    <tr>\n",
       "      <th>17</th>\n",
       "      <td>43</td>\n",
       "      <td>M</td>\n",
       "      <td>HIGH</td>\n",
       "      <td>HIGH</td>\n",
       "      <td>13.972</td>\n",
       "      <td>drugA</td>\n",
       "    </tr>\n",
       "    <tr>\n",
       "      <th>18</th>\n",
       "      <td>23</td>\n",
       "      <td>M</td>\n",
       "      <td>LOW</td>\n",
       "      <td>HIGH</td>\n",
       "      <td>7.298</td>\n",
       "      <td>drugC</td>\n",
       "    </tr>\n",
       "    <tr>\n",
       "      <th>19</th>\n",
       "      <td>32</td>\n",
       "      <td>F</td>\n",
       "      <td>HIGH</td>\n",
       "      <td>NORMAL</td>\n",
       "      <td>25.974</td>\n",
       "      <td>DrugY</td>\n",
       "    </tr>\n",
       "  </tbody>\n",
       "</table>\n",
       "</div>"
      ],
      "text/plain": [
       "    Age Sex      BP Cholesterol  Na_to_K   Drug\n",
       "0    23   F    HIGH        HIGH   25.355  DrugY\n",
       "1    47   M     LOW        HIGH   13.093  drugC\n",
       "2    47   M     LOW        HIGH   10.114  drugC\n",
       "3    28   F  NORMAL        HIGH    7.798  drugX\n",
       "4    61   F     LOW        HIGH   18.043  DrugY\n",
       "5    22   F  NORMAL        HIGH    8.607  drugX\n",
       "6    49   F  NORMAL        HIGH   16.275  DrugY\n",
       "7    41   M     LOW        HIGH   11.037  drugC\n",
       "8    60   M  NORMAL        HIGH   15.171  DrugY\n",
       "9    43   M     LOW      NORMAL   19.368  DrugY\n",
       "10   47   F     LOW        HIGH   11.767  drugC\n",
       "11   34   F    HIGH      NORMAL   19.199  DrugY\n",
       "12   43   M     LOW        HIGH   15.376  DrugY\n",
       "13   74   F     LOW        HIGH   20.942  DrugY\n",
       "14   50   F  NORMAL        HIGH   12.703  drugX\n",
       "15   16   F    HIGH      NORMAL   15.516  DrugY\n",
       "16   69   M     LOW      NORMAL   11.455  drugX\n",
       "17   43   M    HIGH        HIGH   13.972  drugA\n",
       "18   23   M     LOW        HIGH    7.298  drugC\n",
       "19   32   F    HIGH      NORMAL   25.974  DrugY"
      ]
     },
     "execution_count": 42,
     "metadata": {},
     "output_type": "execute_result"
    }
   ],
   "source": [
    "df=pd.read_csv(\"C:\\\\Users\\\\LENOVO\\\\Downloads\\\\assignment_2_dataset.csv\")\n",
    "df.head(20)"
   ]
  },
  {
   "cell_type": "code",
   "execution_count": 43,
   "id": "330924bc",
   "metadata": {},
   "outputs": [],
   "source": [
    "#PRE-PROCESSING:"
   ]
  },
  {
   "cell_type": "code",
   "execution_count": 44,
   "id": "fac157cf",
   "metadata": {},
   "outputs": [
    {
     "data": {
      "text/plain": [
       "(200, 6)"
      ]
     },
     "execution_count": 44,
     "metadata": {},
     "output_type": "execute_result"
    }
   ],
   "source": [
    "df.shape"
   ]
  },
  {
   "cell_type": "code",
   "execution_count": 45,
   "id": "41ff55e4",
   "metadata": {},
   "outputs": [
    {
     "data": {
      "text/plain": [
       "Age            0\n",
       "Sex            0\n",
       "BP             0\n",
       "Cholesterol    0\n",
       "Na_to_K        0\n",
       "Drug           0\n",
       "dtype: int64"
      ]
     },
     "execution_count": 45,
     "metadata": {},
     "output_type": "execute_result"
    }
   ],
   "source": [
    "df.isnull().sum() #no null values"
   ]
  },
  {
   "cell_type": "code",
   "execution_count": 46,
   "id": "c02d700b",
   "metadata": {},
   "outputs": [
    {
     "name": "stdout",
     "output_type": "stream",
     "text": [
      "<class 'pandas.core.frame.DataFrame'>\n",
      "RangeIndex: 200 entries, 0 to 199\n",
      "Data columns (total 6 columns):\n",
      " #   Column       Non-Null Count  Dtype  \n",
      "---  ------       --------------  -----  \n",
      " 0   Age          200 non-null    int64  \n",
      " 1   Sex          200 non-null    object \n",
      " 2   BP           200 non-null    object \n",
      " 3   Cholesterol  200 non-null    object \n",
      " 4   Na_to_K      200 non-null    float64\n",
      " 5   Drug         200 non-null    object \n",
      "dtypes: float64(1), int64(1), object(4)\n",
      "memory usage: 9.5+ KB\n"
     ]
    },
    {
     "data": {
      "text/plain": [
       "(None,\n",
       "               Age     Na_to_K\n",
       " count  200.000000  200.000000\n",
       " mean    44.315000   16.084485\n",
       " std     16.544315    7.223956\n",
       " min     15.000000    6.269000\n",
       " 25%     31.000000   10.445500\n",
       " 50%     45.000000   13.936500\n",
       " 75%     58.000000   19.380000\n",
       " max     74.000000   38.247000)"
      ]
     },
     "execution_count": 46,
     "metadata": {},
     "output_type": "execute_result"
    }
   ],
   "source": [
    "df.info(),df.describe()"
   ]
  },
  {
   "cell_type": "code",
   "execution_count": 47,
   "id": "7b7b0919",
   "metadata": {},
   "outputs": [],
   "source": [
    "#PLOTS-VISUALIZATION:"
   ]
  },
  {
   "cell_type": "code",
   "execution_count": 48,
   "id": "a7b71448",
   "metadata": {},
   "outputs": [
    {
     "data": {
      "text/plain": [
       "<Axes: xlabel='Drug', ylabel='count'>"
      ]
     },
     "execution_count": 48,
     "metadata": {},
     "output_type": "execute_result"
    },
    {
     "data": {
      "image/png": "[encoded data removed]",
      "text/plain": [
       "<Figure size 432x288 with 1 Axes>"
      ]
     },
     "metadata": {
      "needs_background": "light"
     },
     "output_type": "display_data"
    }
   ],
   "source": [
    "sb.countplot(x='Drug',data=df,hue='Drug')\n"
   ]
  },
  {
   "cell_type": "code",
   "execution_count": 49,
   "id": "95d31632",
   "metadata": {},
   "outputs": [],
   "source": [
    "#SEGREGATION OF DATASET"
   ]
  },
  {
   "cell_type": "code",
   "execution_count": 50,
   "id": "dde0ef40",
   "metadata": {},
   "outputs": [],
   "source": [
    "X = df.drop(columns = ['Drug'],axis=1)\n",
    "Y = df['Drug']"
   ]
  },
  {
   "cell_type": "code",
   "execution_count": 51,
   "id": "2fbd4240",
   "metadata": {},
   "outputs": [
    {
     "name": "stdout",
     "output_type": "stream",
     "text": [
      "5\n"
     ]
    }
   ],
   "source": [
    "Y_class = len(np.unique(Y))\n",
    "print(Y_class)"
   ]
  },
  {
   "cell_type": "code",
   "execution_count": 52,
   "id": "ded0ce60",
   "metadata": {},
   "outputs": [],
   "source": [
    "#CATEGORICAL-NUMERICAL ENCODING:"
   ]
  },
  {
   "cell_type": "code",
   "execution_count": 53,
   "id": "be739438",
   "metadata": {},
   "outputs": [],
   "source": [
    "X = pd.get_dummies(X,columns=['Sex','BP','Cholesterol'],drop_first = True)\n",
    "\n",
    "LE = LabelEncoder()\n",
    "Y = LE.fit_transform(Y)"
   ]
  },
  {
   "cell_type": "code",
   "execution_count": 70,
   "id": "3865f91e",
   "metadata": {},
   "outputs": [],
   "source": [
    "X_train, X_test, Y_train, Y_test = train_test_split (X,Y,test_size=0.5,random_state=2)"
   ]
  },
  {
   "cell_type": "code",
   "execution_count": 71,
   "id": "d45388ed",
   "metadata": {},
   "outputs": [],
   "source": [
    "#FEATURE-SCALING TO IMPROVE OPTIMIZATION"
   ]
  },
  {
   "cell_type": "code",
   "execution_count": 72,
   "id": "92d42f43",
   "metadata": {},
   "outputs": [],
   "source": [
    "from sklearn.preprocessing import StandardScaler\n",
    "sc = StandardScaler()\n",
    "X_train = sc.fit_transform(X_train)\n",
    "X_test = sc.fit_transform(X_test)"
   ]
  },
  {
   "cell_type": "code",
   "execution_count": 73,
   "id": "2b9dfa29",
   "metadata": {},
   "outputs": [],
   "source": [
    "Y_train = keras.utils.to_categorical(Y_train)\n",
    "Y_test = keras.utils.to_categorical(Y_test)"
   ]
  },
  {
   "cell_type": "code",
   "execution_count": 74,
   "id": "f9cfe144",
   "metadata": {},
   "outputs": [],
   "source": [
    "#MODEL BUILDING:"
   ]
  },
  {
   "cell_type": "code",
   "execution_count": 75,
   "id": "cc934e26",
   "metadata": {},
   "outputs": [
    {
     "name": "stdout",
     "output_type": "stream",
     "text": [
      "Model: \"sequential_4\"\n",
      "_________________________________________________________________\n",
      " Layer (type)                Output Shape              Param #   \n",
      "=================================================================\n",
      " dense_19 (Dense)            (None, 64)                448       \n",
      "                                                                 \n",
      " dense_20 (Dense)            (None, 128)               8320      \n",
      "                                                                 \n",
      " dense_21 (Dense)            (None, 256)               33024     \n",
      "                                                                 \n",
      " dense_22 (Dense)            (None, 5)                 1285      \n",
      "                                                                 \n",
      "=================================================================\n",
      "Total params: 43,077\n",
      "Trainable params: 43,077\n",
      "Non-trainable params: 0\n",
      "_________________________________________________________________\n"
     ]
    }
   ],
   "source": [
    "model = keras.Sequential([\n",
    "    keras.layers.Dense(units=64, activation='relu', input_shape=(X_train.shape[1],)),\n",
    "    keras.layers.Dense(units=128, activation='relu'),\n",
    "    keras.layers.Dense(units=256, activation='relu'),\n",
    "    keras.layers.Dense(units=len(df['Drug'].unique()), activation='softmax')\n",
    "])\n",
    "\n",
    "# Print the model summary\n",
    "model.summary()"
   ]
  },
  {
   "cell_type": "code",
   "execution_count": 76,
   "id": "68018a96",
   "metadata": {},
   "outputs": [],
   "source": [
    "model.compile(loss='categorical_crossentropy', optimizer='adam', metrics=['accuracy'])"
   ]
  },
  {
   "cell_type": "code",
   "execution_count": 77,
   "id": "6342845f",
   "metadata": {},
   "outputs": [
    {
     "name": "stdout",
     "output_type": "stream",
     "text": [
      "Epoch 1/48\n",
      "17/17 [==============================] - 1s 2ms/step - loss: 1.3556 - accuracy: 0.5900\n",
      "Epoch 2/48\n",
      "17/17 [==============================] - 0s 1ms/step - loss: 0.8822 - accuracy: 0.6900\n",
      "Epoch 3/48\n",
      "17/17 [==============================] - 0s 2ms/step - loss: 0.5520 - accuracy: 0.8000\n",
      "Epoch 4/48\n",
      "17/17 [==============================] - 0s 2ms/step - loss: 0.3479 - accuracy: 0.9300\n",
      "Epoch 5/48\n",
      "17/17 [==============================] - 0s 2ms/step - loss: 0.2071 - accuracy: 0.9800\n",
      "Epoch 6/48\n",
      "17/17 [==============================] - 0s 2ms/step - loss: 0.1339 - accuracy: 0.9700\n",
      "Epoch 7/48\n",
      "17/17 [==============================] - 0s 2ms/step - loss: 0.0810 - accuracy: 0.9800\n",
      "Epoch 8/48\n",
      "17/17 [==============================] - 0s 2ms/step - loss: 0.0634 - accuracy: 0.9900\n",
      "Epoch 9/48\n",
      "17/17 [==============================] - 0s 2ms/step - loss: 0.0478 - accuracy: 0.9900\n",
      "Epoch 10/48\n",
      "17/17 [==============================] - 0s 2ms/step - loss: 0.0362 - accuracy: 1.0000\n",
      "Epoch 11/48\n",
      "17/17 [==============================] - 0s 2ms/step - loss: 0.0381 - accuracy: 0.9900\n",
      "Epoch 12/48\n",
      "17/17 [==============================] - 0s 2ms/step - loss: 0.0345 - accuracy: 0.9900\n",
      "Epoch 13/48\n",
      "17/17 [==============================] - 0s 2ms/step - loss: 0.0291 - accuracy: 0.9900\n",
      "Epoch 14/48\n",
      "17/17 [==============================] - 0s 2ms/step - loss: 0.0329 - accuracy: 0.9900\n",
      "Epoch 15/48\n",
      "17/17 [==============================] - 0s 1ms/step - loss: 0.0279 - accuracy: 0.9900\n",
      "Epoch 16/48\n",
      "17/17 [==============================] - 0s 2ms/step - loss: 0.0131 - accuracy: 1.0000\n",
      "Epoch 17/48\n",
      "17/17 [==============================] - 0s 1ms/step - loss: 0.0155 - accuracy: 1.0000\n",
      "Epoch 18/48\n",
      "17/17 [==============================] - 0s 1ms/step - loss: 0.0099 - accuracy: 1.0000\n",
      "Epoch 19/48\n",
      "17/17 [==============================] - 0s 2ms/step - loss: 0.0091 - accuracy: 1.0000\n",
      "Epoch 20/48\n",
      "17/17 [==============================] - 0s 2ms/step - loss: 0.0086 - accuracy: 1.0000\n",
      "Epoch 21/48\n",
      "17/17 [==============================] - 0s 2ms/step - loss: 0.0075 - accuracy: 1.0000\n",
      "Epoch 22/48\n",
      "17/17 [==============================] - 0s 2ms/step - loss: 0.0067 - accuracy: 1.0000\n",
      "Epoch 23/48\n",
      "17/17 [==============================] - 0s 2ms/step - loss: 0.0072 - accuracy: 1.0000\n",
      "Epoch 24/48\n",
      "17/17 [==============================] - 0s 2ms/step - loss: 0.0051 - accuracy: 1.0000\n",
      "Epoch 25/48\n",
      "17/17 [==============================] - 0s 2ms/step - loss: 0.0052 - accuracy: 1.0000\n",
      "Epoch 26/48\n",
      "17/17 [==============================] - 0s 2ms/step - loss: 0.0068 - accuracy: 1.0000\n",
      "Epoch 27/48\n",
      "17/17 [==============================] - 0s 1ms/step - loss: 0.0335 - accuracy: 0.9800\n",
      "Epoch 28/48\n",
      "17/17 [==============================] - 0s 2ms/step - loss: 0.0346 - accuracy: 0.9800\n",
      "Epoch 29/48\n",
      "17/17 [==============================] - 0s 2ms/step - loss: 0.0288 - accuracy: 0.9900\n",
      "Epoch 30/48\n",
      "17/17 [==============================] - 0s 3ms/step - loss: 0.0081 - accuracy: 1.0000\n",
      "Epoch 31/48\n",
      "17/17 [==============================] - 0s 2ms/step - loss: 0.0049 - accuracy: 1.0000\n",
      "Epoch 32/48\n",
      "17/17 [==============================] - 0s 3ms/step - loss: 0.0028 - accuracy: 1.0000\n",
      "Epoch 33/48\n",
      "17/17 [==============================] - 0s 3ms/step - loss: 0.0026 - accuracy: 1.0000\n",
      "Epoch 34/48\n",
      "17/17 [==============================] - 0s 2ms/step - loss: 0.0024 - accuracy: 1.0000\n",
      "Epoch 35/48\n",
      "17/17 [==============================] - 0s 2ms/step - loss: 0.0023 - accuracy: 1.0000\n",
      "Epoch 36/48\n",
      "17/17 [==============================] - 0s 2ms/step - loss: 0.0020 - accuracy: 1.0000\n",
      "Epoch 37/48\n",
      "17/17 [==============================] - 0s 2ms/step - loss: 0.0019 - accuracy: 1.0000\n",
      "Epoch 38/48\n",
      "17/17 [==============================] - 0s 3ms/step - loss: 0.0018 - accuracy: 1.0000\n",
      "Epoch 39/48\n",
      "17/17 [==============================] - 0s 2ms/step - loss: 0.0017 - accuracy: 1.0000\n",
      "Epoch 40/48\n",
      "17/17 [==============================] - 0s 2ms/step - loss: 0.0015 - accuracy: 1.0000\n",
      "Epoch 41/48\n",
      "17/17 [==============================] - 0s 3ms/step - loss: 0.0015 - accuracy: 1.0000\n",
      "Epoch 42/48\n",
      "17/17 [==============================] - 0s 2ms/step - loss: 0.0014 - accuracy: 1.0000\n",
      "Epoch 43/48\n",
      "17/17 [==============================] - 0s 2ms/step - loss: 0.0014 - accuracy: 1.0000\n",
      "Epoch 44/48\n",
      "17/17 [==============================] - 0s 2ms/step - loss: 0.0015 - accuracy: 1.0000\n",
      "Epoch 45/48\n",
      "17/17 [==============================] - 0s 2ms/step - loss: 0.0012 - accuracy: 1.0000\n",
      "Epoch 46/48\n",
      "17/17 [==============================] - 0s 2ms/step - loss: 0.0011 - accuracy: 1.0000\n",
      "Epoch 47/48\n",
      "17/17 [==============================] - 0s 2ms/step - loss: 0.0011 - accuracy: 1.0000\n",
      "Epoch 48/48\n",
      "17/17 [==============================] - 0s 3ms/step - loss: 0.0010 - accuracy: 1.0000\n"
     ]
    },
    {
     "data": {
      "text/plain": [
       "<keras.callbacks.History at 0x21a74253220>"
      ]
     },
     "execution_count": 77,
     "metadata": {},
     "output_type": "execute_result"
    }
   ],
   "source": [
    "model.fit(X_train,Y_train,epochs=48,batch_size=6)"
   ]
  },
  {
   "cell_type": "code",
   "execution_count": 84,
   "id": "2ece23bb",
   "metadata": {},
   "outputs": [
    {
     "name": "stdout",
     "output_type": "stream",
     "text": [
      "4/4 [==============================] - 0s 4ms/step - loss: 0.8214 - accuracy: 0.8200\n",
      "Test Accuracy: [0.8213672041893005, 0.8199999928474426]\n"
     ]
    }
   ],
   "source": [
    "accuracy = model.evaluate(X_test, Y_test)\n",
    "print(\"Test Accuracy:\", accuracy)"
   ]
  },
  {
   "cell_type": "code",
   "execution_count": null,
   "id": "42189841",
   "metadata": {},
   "outputs": [],
   "source": []
  },
  {
   "cell_type": "code",
   "execution_count": null,
   "id": "0c1dd2da",
   "metadata": {},
   "outputs": [],
   "source": []
  }
 ],
 "metadata": {
  "kernelspec": {
   "display_name": "Python 3 (ipykernel)",
   "language": "python",
   "name": "python3"
  },
  "language_info": {
   "codemirror_mode": {
    "name": "ipython",
    "version": 3
   },
   "file_extension": ".py",
   "mimetype": "text/x-python",
   "name": "python",
   "nbconvert_exporter": "python",
   "pygments_lexer": "ipython3",
   "version": "3.9.12"
  }
 },
 "nbformat": 4,
 "nbformat_minor": 5
}
